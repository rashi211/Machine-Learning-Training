{
  "metadata": {
    "kernelspec": {
      "language": "python",
      "display_name": "Python 3",
      "name": "python3"
    },
    "language_info": {
      "name": "python",
      "version": "3.10.12",
      "mimetype": "text/x-python",
      "codemirror_mode": {
        "name": "ipython",
        "version": 3
      },
      "pygments_lexer": "ipython3",
      "nbconvert_exporter": "python",
      "file_extension": ".py"
    },
    "colab": {
      "provenance": []
    }
  },
  "nbformat_minor": 0,
  "nbformat": 4,
  "cells": [
    {
      "cell_type": "code",
      "source": [
        "import pandas as pd\n",
        "import numpy as np\n",
        "import seaborn as sns\n",
        "import matplotlib.pyplot as plt\n",
        "import warnings\n",
        "warnings.filterwarnings('ignore')\n",
        "from scipy import stats\n",
        "from wordcloud import WordCloud\n",
        "import plotly.express as px\n",
        "import re\n",
        "from sklearn.feature_extraction.text import CountVectorizer\n",
        "from sklearn.decomposition import LatentDirichletAllocation\n",
        "from sklearn.feature_extraction.text import TfidfVectorizer\n",
        "from sklearn.preprocessing import MinMaxScaler\n",
        "from sklearn.neighbors import NearestNeighbors\n",
        "from sklearn.model_selection import train_test_split\n",
        "from sklearn.cluster import KMeans\n",
        "from wordcloud import WordCloud\n"
      ],
      "metadata": {
        "execution": {
          "iopub.status.busy": "2023-10-18T16:26:56.358437Z",
          "iopub.execute_input": "2023-10-18T16:26:56.358799Z",
          "iopub.status.idle": "2023-10-18T16:26:56.365842Z",
          "shell.execute_reply.started": "2023-10-18T16:26:56.358771Z",
          "shell.execute_reply": "2023-10-18T16:26:56.364413Z"
        },
        "trusted": true,
        "id": "r7RknJtOEEg6"
      },
      "execution_count": 12,
      "outputs": []
    },
    {
      "cell_type": "code",
      "source": [],
      "metadata": {
        "id": "3oIf-3lDWfOt"
      },
      "execution_count": 12,
      "outputs": []
    },
    {
      "cell_type": "code",
      "source": [
        "movies = pd.read_csv('/content/rotten_tomatoes_movies.csv')\n",
        "movie_reviews=pd.read_csv('/content/rotten_tomatoes_movies.csv')"
      ],
      "metadata": {
        "execution": {
          "iopub.status.busy": "2023-10-18T16:26:56.368234Z",
          "iopub.execute_input": "2023-10-18T16:26:56.369175Z",
          "iopub.status.idle": "2023-10-18T16:27:07.947108Z",
          "shell.execute_reply.started": "2023-10-18T16:26:56.369146Z",
          "shell.execute_reply": "2023-10-18T16:27:07.945819Z"
        },
        "trusted": true,
        "id": "8Sq_Sd6hEEg7"
      },
      "execution_count": 13,
      "outputs": []
    },
    {
      "cell_type": "code",
      "source": [
        "movie_reviews.info()"
      ],
      "metadata": {
        "execution": {
          "iopub.status.busy": "2023-10-18T16:27:07.948538Z",
          "iopub.execute_input": "2023-10-18T16:27:07.948930Z",
          "iopub.status.idle": "2023-10-18T16:27:08.618523Z",
          "shell.execute_reply.started": "2023-10-18T16:27:07.948894Z",
          "shell.execute_reply": "2023-10-18T16:27:08.617804Z"
        },
        "trusted": true,
        "id": "qShCEaSAEEg7",
        "outputId": "662e58d3-c877-43c7-9638-e6abd031fe3c",
        "colab": {
          "base_uri": "https://localhost:8080/"
        }
      },
      "execution_count": 14,
      "outputs": [
        {
          "output_type": "stream",
          "name": "stdout",
          "text": [
            "<class 'pandas.core.frame.DataFrame'>\n",
            "RangeIndex: 143258 entries, 0 to 143257\n",
            "Data columns (total 16 columns):\n",
            " #   Column                Non-Null Count   Dtype  \n",
            "---  ------                --------------   -----  \n",
            " 0   id                    143258 non-null  object \n",
            " 1   title                 142891 non-null  object \n",
            " 2   audienceScore         73248 non-null   float64\n",
            " 3   tomatoMeter           33877 non-null   float64\n",
            " 4   rating                13991 non-null   object \n",
            " 5   ratingContents        13991 non-null   object \n",
            " 6   releaseDateTheaters   30773 non-null   object \n",
            " 7   releaseDateStreaming  79420 non-null   object \n",
            " 8   runtimeMinutes        129431 non-null  float64\n",
            " 9   genre                 132175 non-null  object \n",
            " 10  originalLanguage      129400 non-null  object \n",
            " 11  director              139064 non-null  object \n",
            " 12  writer                90116 non-null   object \n",
            " 13  boxOffice             14743 non-null   object \n",
            " 14  distributor           23005 non-null   object \n",
            " 15  soundMix              15917 non-null   object \n",
            "dtypes: float64(3), object(13)\n",
            "memory usage: 17.5+ MB\n"
          ]
        }
      ]
    },
    {
      "cell_type": "code",
      "source": [
        "movies.info()"
      ],
      "metadata": {
        "execution": {
          "iopub.status.busy": "2023-10-18T16:27:08.619576Z",
          "iopub.execute_input": "2023-10-18T16:27:08.620415Z",
          "iopub.status.idle": "2023-10-18T16:27:08.703694Z",
          "shell.execute_reply.started": "2023-10-18T16:27:08.620387Z",
          "shell.execute_reply": "2023-10-18T16:27:08.702522Z"
        },
        "trusted": true,
        "id": "t_Ur3c82EEg8",
        "outputId": "211d7629-f66e-4e68-994a-99fc36563626",
        "colab": {
          "base_uri": "https://localhost:8080/"
        }
      },
      "execution_count": 15,
      "outputs": [
        {
          "output_type": "stream",
          "name": "stdout",
          "text": [
            "<class 'pandas.core.frame.DataFrame'>\n",
            "RangeIndex: 143258 entries, 0 to 143257\n",
            "Data columns (total 16 columns):\n",
            " #   Column                Non-Null Count   Dtype  \n",
            "---  ------                --------------   -----  \n",
            " 0   id                    143258 non-null  object \n",
            " 1   title                 142891 non-null  object \n",
            " 2   audienceScore         73248 non-null   float64\n",
            " 3   tomatoMeter           33877 non-null   float64\n",
            " 4   rating                13991 non-null   object \n",
            " 5   ratingContents        13991 non-null   object \n",
            " 6   releaseDateTheaters   30773 non-null   object \n",
            " 7   releaseDateStreaming  79420 non-null   object \n",
            " 8   runtimeMinutes        129431 non-null  float64\n",
            " 9   genre                 132175 non-null  object \n",
            " 10  originalLanguage      129400 non-null  object \n",
            " 11  director              139064 non-null  object \n",
            " 12  writer                90116 non-null   object \n",
            " 13  boxOffice             14743 non-null   object \n",
            " 14  distributor           23005 non-null   object \n",
            " 15  soundMix              15917 non-null   object \n",
            "dtypes: float64(3), object(13)\n",
            "memory usage: 17.5+ MB\n"
          ]
        }
      ]
    },
    {
      "cell_type": "code",
      "source": [
        "movies=movies.drop([\"runtimeMinutes\",\"title\"],axis='columns')\n",
        "# movie_reviews=movie_reviews.drop([\"reviewUrl\",\"reviewId\"],axis='columns')"
      ],
      "metadata": {
        "execution": {
          "iopub.status.busy": "2023-10-18T16:27:08.706110Z",
          "iopub.execute_input": "2023-10-18T16:27:08.706766Z",
          "iopub.status.idle": "2023-10-18T16:27:08.979382Z",
          "shell.execute_reply.started": "2023-10-18T16:27:08.706722Z",
          "shell.execute_reply": "2023-10-18T16:27:08.978452Z"
        },
        "trusted": true,
        "id": "I6RH6KEEEEg8"
      },
      "execution_count": 16,
      "outputs": []
    },
    {
      "cell_type": "code",
      "source": [
        "print(movies.shape)\n",
        "print(movie_reviews.shape)\n"
      ],
      "metadata": {
        "execution": {
          "iopub.status.busy": "2023-10-18T16:27:08.981223Z",
          "iopub.execute_input": "2023-10-18T16:27:08.981725Z",
          "iopub.status.idle": "2023-10-18T16:27:08.988015Z",
          "shell.execute_reply.started": "2023-10-18T16:27:08.981684Z",
          "shell.execute_reply": "2023-10-18T16:27:08.987093Z"
        },
        "trusted": true,
        "id": "tiGcXjAzEEg8",
        "outputId": "5acc22d3-28db-4f41-c183-4d2beeb6ff6a",
        "colab": {
          "base_uri": "https://localhost:8080/"
        }
      },
      "execution_count": 17,
      "outputs": [
        {
          "output_type": "stream",
          "name": "stdout",
          "text": [
            "(143258, 14)\n",
            "(143258, 16)\n"
          ]
        }
      ]
    },
    {
      "cell_type": "code",
      "source": [
        "mov_rev_comb=pd.merge(movie_reviews,movies,on='id')"
      ],
      "metadata": {
        "execution": {
          "iopub.status.busy": "2023-10-18T16:27:08.989460Z",
          "iopub.execute_input": "2023-10-18T16:27:08.989863Z",
          "iopub.status.idle": "2023-10-18T16:27:10.416542Z",
          "shell.execute_reply.started": "2023-10-18T16:27:08.989827Z",
          "shell.execute_reply": "2023-10-18T16:27:10.415528Z"
        },
        "trusted": true,
        "id": "KpS8RGuQEEg9"
      },
      "execution_count": 18,
      "outputs": []
    },
    {
      "cell_type": "code",
      "source": [
        "mov_rev_comb.head()"
      ],
      "metadata": {
        "execution": {
          "iopub.status.busy": "2023-10-18T16:27:10.417688Z",
          "iopub.execute_input": "2023-10-18T16:27:10.418259Z",
          "iopub.status.idle": "2023-10-18T16:27:10.441849Z",
          "shell.execute_reply.started": "2023-10-18T16:27:10.418207Z",
          "shell.execute_reply": "2023-10-18T16:27:10.440559Z"
        },
        "trusted": true,
        "id": "36ej0Q_ZEEg9",
        "outputId": "8ddcff6a-4f5b-4b94-fee8-eed20895ab50",
        "colab": {
          "base_uri": "https://localhost:8080/",
          "height": 446
        }
      },
      "execution_count": 19,
      "outputs": [
        {
          "output_type": "execute_result",
          "data": {
            "text/plain": [
              "                     id                title  audienceScore_x  tomatoMeter_x  \\\n",
              "0    space-zombie-bingo  Space Zombie Bingo!             50.0            NaN   \n",
              "1       the_green_grass      The Green Grass              NaN            NaN   \n",
              "2             love_lies           Love, Lies             43.0            NaN   \n",
              "3  the_sore_losers_1997          Sore Losers             60.0            NaN   \n",
              "4  dinosaur_island_2002      Dinosaur Island             70.0            NaN   \n",
              "\n",
              "  rating_x ratingContents_x releaseDateTheaters_x releaseDateStreaming_x  \\\n",
              "0      NaN              NaN                   NaN             2018-08-25   \n",
              "1      NaN              NaN                   NaN             2020-02-11   \n",
              "2      NaN              NaN                   NaN                    NaN   \n",
              "3      NaN              NaN                   NaN             2020-10-23   \n",
              "4      NaN              NaN                   NaN             2017-03-27   \n",
              "\n",
              "   runtimeMinutes                        genre_x  ... ratingContents_y  \\\n",
              "0            75.0         Comedy, Horror, Sci-fi  ...              NaN   \n",
              "1           114.0                          Drama  ...              NaN   \n",
              "2           120.0                          Drama  ...              NaN   \n",
              "3            90.0     Action, Mystery & thriller  ...              NaN   \n",
              "4            80.0  Fantasy, Adventure, Animation  ...              NaN   \n",
              "\n",
              "  releaseDateTheaters_y releaseDateStreaming_y                        genre_y  \\\n",
              "0                   NaN             2018-08-25         Comedy, Horror, Sci-fi   \n",
              "1                   NaN             2020-02-11                          Drama   \n",
              "2                   NaN                    NaN                          Drama   \n",
              "3                   NaN             2020-10-23     Action, Mystery & thriller   \n",
              "4                   NaN             2017-03-27  Fantasy, Adventure, Animation   \n",
              "\n",
              "  originalLanguage_y                     director_y  \\\n",
              "0            English                  George Ormrod   \n",
              "1            English                Tiffany Edwards   \n",
              "2             Korean  Park Heung-Sik,Heung-Sik Park   \n",
              "3            English          John Michael McCarthy   \n",
              "4            English                  Will Meugniot   \n",
              "\n",
              "                                 writer_y  boxOffice_y distributor_y  \\\n",
              "0              George Ormrod,John Sabotta          NaN           NaN   \n",
              "1                         Tiffany Edwards          NaN           NaN   \n",
              "2  Ha Young-Joon,Jeon Yun-su,Song Hye-jin          NaN           NaN   \n",
              "3                   John Michael McCarthy          NaN           NaN   \n",
              "4                                John Loy          NaN           NaN   \n",
              "\n",
              "  soundMix_y  \n",
              "0        NaN  \n",
              "1        NaN  \n",
              "2        NaN  \n",
              "3        NaN  \n",
              "4        NaN  \n",
              "\n",
              "[5 rows x 29 columns]"
            ],
            "text/html": [
              "\n",
              "  <div id=\"df-efbeebce-7b28-4b55-a04c-17c317acdee4\" class=\"colab-df-container\">\n",
              "    <div>\n",
              "<style scoped>\n",
              "    .dataframe tbody tr th:only-of-type {\n",
              "        vertical-align: middle;\n",
              "    }\n",
              "\n",
              "    .dataframe tbody tr th {\n",
              "        vertical-align: top;\n",
              "    }\n",
              "\n",
              "    .dataframe thead th {\n",
              "        text-align: right;\n",
              "    }\n",
              "</style>\n",
              "<table border=\"1\" class=\"dataframe\">\n",
              "  <thead>\n",
              "    <tr style=\"text-align: right;\">\n",
              "      <th></th>\n",
              "      <th>id</th>\n",
              "      <th>title</th>\n",
              "      <th>audienceScore_x</th>\n",
              "      <th>tomatoMeter_x</th>\n",
              "      <th>rating_x</th>\n",
              "      <th>ratingContents_x</th>\n",
              "      <th>releaseDateTheaters_x</th>\n",
              "      <th>releaseDateStreaming_x</th>\n",
              "      <th>runtimeMinutes</th>\n",
              "      <th>genre_x</th>\n",
              "      <th>...</th>\n",
              "      <th>ratingContents_y</th>\n",
              "      <th>releaseDateTheaters_y</th>\n",
              "      <th>releaseDateStreaming_y</th>\n",
              "      <th>genre_y</th>\n",
              "      <th>originalLanguage_y</th>\n",
              "      <th>director_y</th>\n",
              "      <th>writer_y</th>\n",
              "      <th>boxOffice_y</th>\n",
              "      <th>distributor_y</th>\n",
              "      <th>soundMix_y</th>\n",
              "    </tr>\n",
              "  </thead>\n",
              "  <tbody>\n",
              "    <tr>\n",
              "      <th>0</th>\n",
              "      <td>space-zombie-bingo</td>\n",
              "      <td>Space Zombie Bingo!</td>\n",
              "      <td>50.0</td>\n",
              "      <td>NaN</td>\n",
              "      <td>NaN</td>\n",
              "      <td>NaN</td>\n",
              "      <td>NaN</td>\n",
              "      <td>2018-08-25</td>\n",
              "      <td>75.0</td>\n",
              "      <td>Comedy, Horror, Sci-fi</td>\n",
              "      <td>...</td>\n",
              "      <td>NaN</td>\n",
              "      <td>NaN</td>\n",
              "      <td>2018-08-25</td>\n",
              "      <td>Comedy, Horror, Sci-fi</td>\n",
              "      <td>English</td>\n",
              "      <td>George Ormrod</td>\n",
              "      <td>George Ormrod,John Sabotta</td>\n",
              "      <td>NaN</td>\n",
              "      <td>NaN</td>\n",
              "      <td>NaN</td>\n",
              "    </tr>\n",
              "    <tr>\n",
              "      <th>1</th>\n",
              "      <td>the_green_grass</td>\n",
              "      <td>The Green Grass</td>\n",
              "      <td>NaN</td>\n",
              "      <td>NaN</td>\n",
              "      <td>NaN</td>\n",
              "      <td>NaN</td>\n",
              "      <td>NaN</td>\n",
              "      <td>2020-02-11</td>\n",
              "      <td>114.0</td>\n",
              "      <td>Drama</td>\n",
              "      <td>...</td>\n",
              "      <td>NaN</td>\n",
              "      <td>NaN</td>\n",
              "      <td>2020-02-11</td>\n",
              "      <td>Drama</td>\n",
              "      <td>English</td>\n",
              "      <td>Tiffany Edwards</td>\n",
              "      <td>Tiffany Edwards</td>\n",
              "      <td>NaN</td>\n",
              "      <td>NaN</td>\n",
              "      <td>NaN</td>\n",
              "    </tr>\n",
              "    <tr>\n",
              "      <th>2</th>\n",
              "      <td>love_lies</td>\n",
              "      <td>Love, Lies</td>\n",
              "      <td>43.0</td>\n",
              "      <td>NaN</td>\n",
              "      <td>NaN</td>\n",
              "      <td>NaN</td>\n",
              "      <td>NaN</td>\n",
              "      <td>NaN</td>\n",
              "      <td>120.0</td>\n",
              "      <td>Drama</td>\n",
              "      <td>...</td>\n",
              "      <td>NaN</td>\n",
              "      <td>NaN</td>\n",
              "      <td>NaN</td>\n",
              "      <td>Drama</td>\n",
              "      <td>Korean</td>\n",
              "      <td>Park Heung-Sik,Heung-Sik Park</td>\n",
              "      <td>Ha Young-Joon,Jeon Yun-su,Song Hye-jin</td>\n",
              "      <td>NaN</td>\n",
              "      <td>NaN</td>\n",
              "      <td>NaN</td>\n",
              "    </tr>\n",
              "    <tr>\n",
              "      <th>3</th>\n",
              "      <td>the_sore_losers_1997</td>\n",
              "      <td>Sore Losers</td>\n",
              "      <td>60.0</td>\n",
              "      <td>NaN</td>\n",
              "      <td>NaN</td>\n",
              "      <td>NaN</td>\n",
              "      <td>NaN</td>\n",
              "      <td>2020-10-23</td>\n",
              "      <td>90.0</td>\n",
              "      <td>Action, Mystery &amp; thriller</td>\n",
              "      <td>...</td>\n",
              "      <td>NaN</td>\n",
              "      <td>NaN</td>\n",
              "      <td>2020-10-23</td>\n",
              "      <td>Action, Mystery &amp; thriller</td>\n",
              "      <td>English</td>\n",
              "      <td>John Michael McCarthy</td>\n",
              "      <td>John Michael McCarthy</td>\n",
              "      <td>NaN</td>\n",
              "      <td>NaN</td>\n",
              "      <td>NaN</td>\n",
              "    </tr>\n",
              "    <tr>\n",
              "      <th>4</th>\n",
              "      <td>dinosaur_island_2002</td>\n",
              "      <td>Dinosaur Island</td>\n",
              "      <td>70.0</td>\n",
              "      <td>NaN</td>\n",
              "      <td>NaN</td>\n",
              "      <td>NaN</td>\n",
              "      <td>NaN</td>\n",
              "      <td>2017-03-27</td>\n",
              "      <td>80.0</td>\n",
              "      <td>Fantasy, Adventure, Animation</td>\n",
              "      <td>...</td>\n",
              "      <td>NaN</td>\n",
              "      <td>NaN</td>\n",
              "      <td>2017-03-27</td>\n",
              "      <td>Fantasy, Adventure, Animation</td>\n",
              "      <td>English</td>\n",
              "      <td>Will Meugniot</td>\n",
              "      <td>John Loy</td>\n",
              "      <td>NaN</td>\n",
              "      <td>NaN</td>\n",
              "      <td>NaN</td>\n",
              "    </tr>\n",
              "  </tbody>\n",
              "</table>\n",
              "<p>5 rows × 29 columns</p>\n",
              "</div>\n",
              "    <div class=\"colab-df-buttons\">\n",
              "\n",
              "  <div class=\"colab-df-container\">\n",
              "    <button class=\"colab-df-convert\" onclick=\"convertToInteractive('df-efbeebce-7b28-4b55-a04c-17c317acdee4')\"\n",
              "            title=\"Convert this dataframe to an interactive table.\"\n",
              "            style=\"display:none;\">\n",
              "\n",
              "  <svg xmlns=\"http://www.w3.org/2000/svg\" height=\"24px\" viewBox=\"0 -960 960 960\">\n",
              "    <path d=\"M120-120v-720h720v720H120Zm60-500h600v-160H180v160Zm220 220h160v-160H400v160Zm0 220h160v-160H400v160ZM180-400h160v-160H180v160Zm440 0h160v-160H620v160ZM180-180h160v-160H180v160Zm440 0h160v-160H620v160Z\"/>\n",
              "  </svg>\n",
              "    </button>\n",
              "\n",
              "  <style>\n",
              "    .colab-df-container {\n",
              "      display:flex;\n",
              "      gap: 12px;\n",
              "    }\n",
              "\n",
              "    .colab-df-convert {\n",
              "      background-color: #E8F0FE;\n",
              "      border: none;\n",
              "      border-radius: 50%;\n",
              "      cursor: pointer;\n",
              "      display: none;\n",
              "      fill: #1967D2;\n",
              "      height: 32px;\n",
              "      padding: 0 0 0 0;\n",
              "      width: 32px;\n",
              "    }\n",
              "\n",
              "    .colab-df-convert:hover {\n",
              "      background-color: #E2EBFA;\n",
              "      box-shadow: 0px 1px 2px rgba(60, 64, 67, 0.3), 0px 1px 3px 1px rgba(60, 64, 67, 0.15);\n",
              "      fill: #174EA6;\n",
              "    }\n",
              "\n",
              "    .colab-df-buttons div {\n",
              "      margin-bottom: 4px;\n",
              "    }\n",
              "\n",
              "    [theme=dark] .colab-df-convert {\n",
              "      background-color: #3B4455;\n",
              "      fill: #D2E3FC;\n",
              "    }\n",
              "\n",
              "    [theme=dark] .colab-df-convert:hover {\n",
              "      background-color: #434B5C;\n",
              "      box-shadow: 0px 1px 3px 1px rgba(0, 0, 0, 0.15);\n",
              "      filter: drop-shadow(0px 1px 2px rgba(0, 0, 0, 0.3));\n",
              "      fill: #FFFFFF;\n",
              "    }\n",
              "  </style>\n",
              "\n",
              "    <script>\n",
              "      const buttonEl =\n",
              "        document.querySelector('#df-efbeebce-7b28-4b55-a04c-17c317acdee4 button.colab-df-convert');\n",
              "      buttonEl.style.display =\n",
              "        google.colab.kernel.accessAllowed ? 'block' : 'none';\n",
              "\n",
              "      async function convertToInteractive(key) {\n",
              "        const element = document.querySelector('#df-efbeebce-7b28-4b55-a04c-17c317acdee4');\n",
              "        const dataTable =\n",
              "          await google.colab.kernel.invokeFunction('convertToInteractive',\n",
              "                                                    [key], {});\n",
              "        if (!dataTable) return;\n",
              "\n",
              "        const docLinkHtml = 'Like what you see? Visit the ' +\n",
              "          '<a target=\"_blank\" href=https://colab.research.google.com/notebooks/data_table.ipynb>data table notebook</a>'\n",
              "          + ' to learn more about interactive tables.';\n",
              "        element.innerHTML = '';\n",
              "        dataTable['output_type'] = 'display_data';\n",
              "        await google.colab.output.renderOutput(dataTable, element);\n",
              "        const docLink = document.createElement('div');\n",
              "        docLink.innerHTML = docLinkHtml;\n",
              "        element.appendChild(docLink);\n",
              "      }\n",
              "    </script>\n",
              "  </div>\n",
              "\n",
              "\n",
              "<div id=\"df-97aad08e-2d93-46c1-af02-67bcf1911eab\">\n",
              "  <button class=\"colab-df-quickchart\" onclick=\"quickchart('df-97aad08e-2d93-46c1-af02-67bcf1911eab')\"\n",
              "            title=\"Suggest charts\"\n",
              "            style=\"display:none;\">\n",
              "\n",
              "<svg xmlns=\"http://www.w3.org/2000/svg\" height=\"24px\"viewBox=\"0 0 24 24\"\n",
              "     width=\"24px\">\n",
              "    <g>\n",
              "        <path d=\"M19 3H5c-1.1 0-2 .9-2 2v14c0 1.1.9 2 2 2h14c1.1 0 2-.9 2-2V5c0-1.1-.9-2-2-2zM9 17H7v-7h2v7zm4 0h-2V7h2v10zm4 0h-2v-4h2v4z\"/>\n",
              "    </g>\n",
              "</svg>\n",
              "  </button>\n",
              "\n",
              "<style>\n",
              "  .colab-df-quickchart {\n",
              "      --bg-color: #E8F0FE;\n",
              "      --fill-color: #1967D2;\n",
              "      --hover-bg-color: #E2EBFA;\n",
              "      --hover-fill-color: #174EA6;\n",
              "      --disabled-fill-color: #AAA;\n",
              "      --disabled-bg-color: #DDD;\n",
              "  }\n",
              "\n",
              "  [theme=dark] .colab-df-quickchart {\n",
              "      --bg-color: #3B4455;\n",
              "      --fill-color: #D2E3FC;\n",
              "      --hover-bg-color: #434B5C;\n",
              "      --hover-fill-color: #FFFFFF;\n",
              "      --disabled-bg-color: #3B4455;\n",
              "      --disabled-fill-color: #666;\n",
              "  }\n",
              "\n",
              "  .colab-df-quickchart {\n",
              "    background-color: var(--bg-color);\n",
              "    border: none;\n",
              "    border-radius: 50%;\n",
              "    cursor: pointer;\n",
              "    display: none;\n",
              "    fill: var(--fill-color);\n",
              "    height: 32px;\n",
              "    padding: 0;\n",
              "    width: 32px;\n",
              "  }\n",
              "\n",
              "  .colab-df-quickchart:hover {\n",
              "    background-color: var(--hover-bg-color);\n",
              "    box-shadow: 0 1px 2px rgba(60, 64, 67, 0.3), 0 1px 3px 1px rgba(60, 64, 67, 0.15);\n",
              "    fill: var(--button-hover-fill-color);\n",
              "  }\n",
              "\n",
              "  .colab-df-quickchart-complete:disabled,\n",
              "  .colab-df-quickchart-complete:disabled:hover {\n",
              "    background-color: var(--disabled-bg-color);\n",
              "    fill: var(--disabled-fill-color);\n",
              "    box-shadow: none;\n",
              "  }\n",
              "\n",
              "  .colab-df-spinner {\n",
              "    border: 2px solid var(--fill-color);\n",
              "    border-color: transparent;\n",
              "    border-bottom-color: var(--fill-color);\n",
              "    animation:\n",
              "      spin 1s steps(1) infinite;\n",
              "  }\n",
              "\n",
              "  @keyframes spin {\n",
              "    0% {\n",
              "      border-color: transparent;\n",
              "      border-bottom-color: var(--fill-color);\n",
              "      border-left-color: var(--fill-color);\n",
              "    }\n",
              "    20% {\n",
              "      border-color: transparent;\n",
              "      border-left-color: var(--fill-color);\n",
              "      border-top-color: var(--fill-color);\n",
              "    }\n",
              "    30% {\n",
              "      border-color: transparent;\n",
              "      border-left-color: var(--fill-color);\n",
              "      border-top-color: var(--fill-color);\n",
              "      border-right-color: var(--fill-color);\n",
              "    }\n",
              "    40% {\n",
              "      border-color: transparent;\n",
              "      border-right-color: var(--fill-color);\n",
              "      border-top-color: var(--fill-color);\n",
              "    }\n",
              "    60% {\n",
              "      border-color: transparent;\n",
              "      border-right-color: var(--fill-color);\n",
              "    }\n",
              "    80% {\n",
              "      border-color: transparent;\n",
              "      border-right-color: var(--fill-color);\n",
              "      border-bottom-color: var(--fill-color);\n",
              "    }\n",
              "    90% {\n",
              "      border-color: transparent;\n",
              "      border-bottom-color: var(--fill-color);\n",
              "    }\n",
              "  }\n",
              "</style>\n",
              "\n",
              "  <script>\n",
              "    async function quickchart(key) {\n",
              "      const quickchartButtonEl =\n",
              "        document.querySelector('#' + key + ' button');\n",
              "      quickchartButtonEl.disabled = true;  // To prevent multiple clicks.\n",
              "      quickchartButtonEl.classList.add('colab-df-spinner');\n",
              "      try {\n",
              "        const charts = await google.colab.kernel.invokeFunction(\n",
              "            'suggestCharts', [key], {});\n",
              "      } catch (error) {\n",
              "        console.error('Error during call to suggestCharts:', error);\n",
              "      }\n",
              "      quickchartButtonEl.classList.remove('colab-df-spinner');\n",
              "      quickchartButtonEl.classList.add('colab-df-quickchart-complete');\n",
              "    }\n",
              "    (() => {\n",
              "      let quickchartButtonEl =\n",
              "        document.querySelector('#df-97aad08e-2d93-46c1-af02-67bcf1911eab button');\n",
              "      quickchartButtonEl.style.display =\n",
              "        google.colab.kernel.accessAllowed ? 'block' : 'none';\n",
              "    })();\n",
              "  </script>\n",
              "</div>\n",
              "    </div>\n",
              "  </div>\n"
            ]
          },
          "metadata": {},
          "execution_count": 19
        }
      ]
    },
    {
      "cell_type": "code",
      "source": [
        "sns.heatmap(mov_rev_comb.isnull(),yticklabels=False,cbar=False,cmap='viridis')"
      ],
      "metadata": {
        "execution": {
          "iopub.status.busy": "2023-10-18T16:27:10.443748Z",
          "iopub.execute_input": "2023-10-18T16:27:10.444153Z",
          "iopub.status.idle": "2023-10-18T16:27:58.685650Z",
          "shell.execute_reply.started": "2023-10-18T16:27:10.444114Z",
          "shell.execute_reply": "2023-10-18T16:27:58.684580Z"
        },
        "trusted": true,
        "id": "gaIovle7EEg9",
        "outputId": "60eeec90-04b3-47d1-c1df-aa35937fbaaa",
        "colab": {
          "base_uri": "https://localhost:8080/",
          "height": 604
        }
      },
      "execution_count": 20,
      "outputs": [
        {
          "output_type": "execute_result",
          "data": {
            "text/plain": [
              "<Axes: >"
            ]
          },
          "metadata": {},
          "execution_count": 20
        },
        {
          "output_type": "display_data",
          "data": {
            "text/plain": [
              "<Figure size 640x480 with 1 Axes>"
            ],
            "image/png": "[encoded data removed]"
          },
          "metadata": {}
        }
      ]
    },
    {
      "cell_type": "code",
      "source": [
        "Sm_Pie_ss=mov_rev_comb.scoreSentiment.value_counts().index\n",
        "SM_count_pie_ss=mov_rev_comb.scoreSentiment.value_counts().values"
      ],
      "metadata": {
        "execution": {
          "iopub.status.busy": "2023-10-18T16:27:58.687582Z",
          "iopub.execute_input": "2023-10-18T16:27:58.687899Z",
          "iopub.status.idle": "2023-10-18T16:27:58.927986Z",
          "shell.execute_reply.started": "2023-10-18T16:27:58.687873Z",
          "shell.execute_reply": "2023-10-18T16:27:58.926970Z"
        },
        "trusted": true,
        "id": "FMtK9YBPEEg9",
        "colab": {
          "base_uri": "https://localhost:8080/",
          "height": 314
        },
        "outputId": "f07a0e6c-83b0-4cdc-e595-c6def168b422"
      },
      "execution_count": 21,
      "outputs": [
        {
          "output_type": "error",
          "ename": "AttributeError",
          "evalue": "ignored",
          "traceback": [
            "\u001b[0;31m---------------------------------------------------------------------------\u001b[0m",
            "\u001b[0;31mAttributeError\u001b[0m                            Traceback (most recent call last)",
            "\u001b[0;32m<ipython-input-21-acaf79ccace8>\u001b[0m in \u001b[0;36m<cell line: 1>\u001b[0;34m()\u001b[0m\n\u001b[0;32m----> 1\u001b[0;31m \u001b[0mSm_Pie_ss\u001b[0m\u001b[0;34m=\u001b[0m\u001b[0mmov_rev_comb\u001b[0m\u001b[0;34m.\u001b[0m\u001b[0mscoreSentiment\u001b[0m\u001b[0;34m.\u001b[0m\u001b[0mvalue_counts\u001b[0m\u001b[0;34m(\u001b[0m\u001b[0;34m)\u001b[0m\u001b[0;34m.\u001b[0m\u001b[0mindex\u001b[0m\u001b[0;34m\u001b[0m\u001b[0;34m\u001b[0m\u001b[0m\n\u001b[0m\u001b[1;32m      2\u001b[0m \u001b[0mSM_count_pie_ss\u001b[0m\u001b[0;34m=\u001b[0m\u001b[0mmov_rev_comb\u001b[0m\u001b[0;34m.\u001b[0m\u001b[0mscoreSentiment\u001b[0m\u001b[0;34m.\u001b[0m\u001b[0mvalue_counts\u001b[0m\u001b[0;34m(\u001b[0m\u001b[0;34m)\u001b[0m\u001b[0;34m.\u001b[0m\u001b[0mvalues\u001b[0m\u001b[0;34m\u001b[0m\u001b[0;34m\u001b[0m\u001b[0m\n",
            "\u001b[0;32m/usr/local/lib/python3.10/dist-packages/pandas/core/generic.py\u001b[0m in \u001b[0;36m__getattr__\u001b[0;34m(self, name)\u001b[0m\n\u001b[1;32m   5900\u001b[0m         ):\n\u001b[1;32m   5901\u001b[0m             \u001b[0;32mreturn\u001b[0m \u001b[0mself\u001b[0m\u001b[0;34m[\u001b[0m\u001b[0mname\u001b[0m\u001b[0;34m]\u001b[0m\u001b[0;34m\u001b[0m\u001b[0;34m\u001b[0m\u001b[0m\n\u001b[0;32m-> 5902\u001b[0;31m         \u001b[0;32mreturn\u001b[0m \u001b[0mobject\u001b[0m\u001b[0;34m.\u001b[0m\u001b[0m__getattribute__\u001b[0m\u001b[0;34m(\u001b[0m\u001b[0mself\u001b[0m\u001b[0;34m,\u001b[0m \u001b[0mname\u001b[0m\u001b[0;34m)\u001b[0m\u001b[0;34m\u001b[0m\u001b[0;34m\u001b[0m\u001b[0m\n\u001b[0m\u001b[1;32m   5903\u001b[0m \u001b[0;34m\u001b[0m\u001b[0m\n\u001b[1;32m   5904\u001b[0m     \u001b[0;32mdef\u001b[0m \u001b[0m__setattr__\u001b[0m\u001b[0;34m(\u001b[0m\u001b[0mself\u001b[0m\u001b[0;34m,\u001b[0m \u001b[0mname\u001b[0m\u001b[0;34m:\u001b[0m \u001b[0mstr\u001b[0m\u001b[0;34m,\u001b[0m \u001b[0mvalue\u001b[0m\u001b[0;34m)\u001b[0m \u001b[0;34m->\u001b[0m \u001b[0;32mNone\u001b[0m\u001b[0;34m:\u001b[0m\u001b[0;34m\u001b[0m\u001b[0;34m\u001b[0m\u001b[0m\n",
            "\u001b[0;31mAttributeError\u001b[0m: 'DataFrame' object has no attribute 'scoreSentiment'"
          ]
        }
      ]
    },
    {
      "cell_type": "code",
      "source": [
        "plt.title(\"score sentiment Distribution\")\n",
        "plt.pie(SM_count_pie_ss,labels=Sm_Pie_ss,autopct='%1.2f%%')"
      ],
      "metadata": {
        "execution": {
          "iopub.status.busy": "2023-10-18T16:27:58.929368Z",
          "iopub.execute_input": "2023-10-18T16:27:58.929672Z",
          "iopub.status.idle": "2023-10-18T16:27:59.044385Z",
          "shell.execute_reply.started": "2023-10-18T16:27:58.929645Z",
          "shell.execute_reply": "2023-10-18T16:27:59.043008Z"
        },
        "trusted": true,
        "id": "SNYb8JZ6EEg-"
      },
      "execution_count": null,
      "outputs": []
    },
    {
      "cell_type": "code",
      "source": [
        "mov_rev_comb['releaseDateTheaters']=pd.to_datetime(mov_rev_comb['releaseDateTheaters'][1:])\n",
        "mov_rev_comb['releaseDateTheatersYears']=mov_rev_comb['releaseDateTheaters'][1:].dt.year\n",
        "mov_rev_comb=mov_rev_comb.drop(columns='releaseDateTheaters')\n"
      ],
      "metadata": {
        "execution": {
          "iopub.status.busy": "2023-10-18T16:27:59.046788Z",
          "iopub.execute_input": "2023-10-18T16:27:59.047566Z",
          "iopub.status.idle": "2023-10-18T16:27:59.884172Z",
          "shell.execute_reply.started": "2023-10-18T16:27:59.047511Z",
          "shell.execute_reply": "2023-10-18T16:27:59.882655Z"
        },
        "trusted": true,
        "id": "gerJ8pQyEEg-"
      },
      "execution_count": null,
      "outputs": []
    },
    {
      "cell_type": "code",
      "source": [
        "mov_rev_comb.columns"
      ],
      "metadata": {
        "execution": {
          "iopub.status.busy": "2023-10-18T16:27:59.885460Z",
          "iopub.execute_input": "2023-10-18T16:27:59.885861Z",
          "iopub.status.idle": "2023-10-18T16:27:59.892004Z",
          "shell.execute_reply.started": "2023-10-18T16:27:59.885833Z",
          "shell.execute_reply": "2023-10-18T16:27:59.891081Z"
        },
        "trusted": true,
        "id": "BBdfmtbZEEg-",
        "outputId": "bbaabe22-e36b-4d35-ebc5-400114b46430",
        "colab": {
          "base_uri": "https://localhost:8080/"
        }
      },
      "execution_count": 22,
      "outputs": [
        {
          "output_type": "execute_result",
          "data": {
            "text/plain": [
              "Index(['id', 'title', 'audienceScore_x', 'tomatoMeter_x', 'rating_x',\n",
              "       'ratingContents_x', 'releaseDateTheaters_x', 'releaseDateStreaming_x',\n",
              "       'runtimeMinutes', 'genre_x', 'originalLanguage_x', 'director_x',\n",
              "       'writer_x', 'boxOffice_x', 'distributor_x', 'soundMix_x',\n",
              "       'audienceScore_y', 'tomatoMeter_y', 'rating_y', 'ratingContents_y',\n",
              "       'releaseDateTheaters_y', 'releaseDateStreaming_y', 'genre_y',\n",
              "       'originalLanguage_y', 'director_y', 'writer_y', 'boxOffice_y',\n",
              "       'distributor_y', 'soundMix_y'],\n",
              "      dtype='object')"
            ]
          },
          "metadata": {},
          "execution_count": 22
        }
      ]
    },
    {
      "cell_type": "code",
      "source": [
        "Sm_box_rdty=mov_rev_comb.releaseDateTheatersYears.value_counts().index\n",
        "Sm_count_box_rdty=mov_rev_comb.releaseDateTheatersYears.value_counts().values"
      ],
      "metadata": {
        "execution": {
          "iopub.status.busy": "2023-10-18T16:27:59.898372Z",
          "iopub.execute_input": "2023-10-18T16:27:59.898778Z",
          "iopub.status.idle": "2023-10-18T16:27:59.937254Z",
          "shell.execute_reply.started": "2023-10-18T16:27:59.898749Z",
          "shell.execute_reply": "2023-10-18T16:27:59.936174Z"
        },
        "trusted": true,
        "id": "BN9gMWQFEEg-"
      },
      "execution_count": null,
      "outputs": []
    },
    {
      "cell_type": "code",
      "source": [
        "mov_rev_comb.releaseDateTheatersYears.value_counts()"
      ],
      "metadata": {
        "execution": {
          "iopub.status.busy": "2023-10-18T16:27:59.938645Z",
          "iopub.execute_input": "2023-10-18T16:27:59.939025Z",
          "iopub.status.idle": "2023-10-18T16:27:59.964631Z",
          "shell.execute_reply.started": "2023-10-18T16:27:59.938986Z",
          "shell.execute_reply": "2023-10-18T16:27:59.963554Z"
        },
        "trusted": true,
        "id": "oLuzRx1iEEg-"
      },
      "execution_count": null,
      "outputs": []
    },
    {
      "cell_type": "raw",
      "source": [],
      "metadata": {
        "id": "YmPdaTBFEEg-"
      }
    },
    {
      "cell_type": "code",
      "source": [
        "plt.bar(Sm_box_rdty,Sm_count_box_rdty)\n",
        "plt.title('Reviews count over years',fontweight=\"bold\")\n",
        "plt.figure(figsize=(20,20))\n",
        "plt.show()"
      ],
      "metadata": {
        "execution": {
          "iopub.status.busy": "2023-10-18T16:27:59.965941Z",
          "iopub.execute_input": "2023-10-18T16:27:59.966224Z",
          "iopub.status.idle": "2023-10-18T16:28:00.374337Z",
          "shell.execute_reply.started": "2023-10-18T16:27:59.966199Z",
          "shell.execute_reply": "2023-10-18T16:28:00.373217Z"
        },
        "trusted": true,
        "id": "TBxXCauFEEg-"
      },
      "execution_count": null,
      "outputs": []
    },
    {
      "cell_type": "code",
      "source": [
        "Sm_pie_itc=mov_rev_comb.isTopCritic.value_counts().index\n",
        "Sm_count_pie_itc=mov_rev_comb.isTopCritic.value_counts().values"
      ],
      "metadata": {
        "execution": {
          "iopub.status.busy": "2023-10-18T16:28:00.375626Z",
          "iopub.execute_input": "2023-10-18T16:28:00.375934Z",
          "iopub.status.idle": "2023-10-18T16:28:00.400277Z",
          "shell.execute_reply.started": "2023-10-18T16:28:00.375907Z",
          "shell.execute_reply": "2023-10-18T16:28:00.399175Z"
        },
        "trusted": true,
        "id": "3II4AcjnEEg_"
      },
      "execution_count": null,
      "outputs": []
    },
    {
      "cell_type": "code",
      "source": [
        "plt.title(\"is top critic Distribution\")\n",
        "plt.pie(Sm_count_pie_itc,labels=Sm_pie_itc,autopct='%1.2f%%')"
      ],
      "metadata": {
        "execution": {
          "iopub.status.busy": "2023-10-18T16:28:00.401619Z",
          "iopub.execute_input": "2023-10-18T16:28:00.402139Z",
          "iopub.status.idle": "2023-10-18T16:28:00.535168Z",
          "shell.execute_reply.started": "2023-10-18T16:28:00.402109Z",
          "shell.execute_reply": "2023-10-18T16:28:00.533683Z"
        },
        "trusted": true,
        "id": "QlF4Z2evEEg_"
      },
      "execution_count": null,
      "outputs": []
    },
    {
      "cell_type": "markdown",
      "source": [
        "Critic information"
      ],
      "metadata": {
        "id": "2wX6aPH7EEg_"
      }
    },
    {
      "cell_type": "code",
      "source": [
        "mov_rev_comb.criticName.unique()"
      ],
      "metadata": {
        "execution": {
          "iopub.status.busy": "2023-10-18T16:28:00.537792Z",
          "iopub.execute_input": "2023-10-18T16:28:00.538941Z",
          "iopub.status.idle": "2023-10-18T16:28:00.724420Z",
          "shell.execute_reply.started": "2023-10-18T16:28:00.538881Z",
          "shell.execute_reply": "2023-10-18T16:28:00.723293Z"
        },
        "trusted": true,
        "id": "zwc4Bu2YEEg_"
      },
      "execution_count": null,
      "outputs": []
    },
    {
      "cell_type": "code",
      "source": [
        "Sm_bar_cn=mov_rev_comb.criticName.value_counts().index\n",
        "Sm_count_bar_cn=mov_rev_comb.criticName.value_counts().values\n"
      ],
      "metadata": {
        "execution": {
          "iopub.status.busy": "2023-10-18T16:28:00.726147Z",
          "iopub.execute_input": "2023-10-18T16:28:00.726560Z",
          "iopub.status.idle": "2023-10-18T16:28:01.101274Z",
          "shell.execute_reply.started": "2023-10-18T16:28:00.726521Z",
          "shell.execute_reply": "2023-10-18T16:28:01.100317Z"
        },
        "trusted": true,
        "id": "WC1uu3WVEEg_"
      },
      "execution_count": null,
      "outputs": []
    },
    {
      "cell_type": "code",
      "source": [
        "mov_rev_comb.criticName.value_counts()[:20]"
      ],
      "metadata": {
        "execution": {
          "iopub.status.busy": "2023-10-18T16:28:01.102664Z",
          "iopub.execute_input": "2023-10-18T16:28:01.103051Z",
          "iopub.status.idle": "2023-10-18T16:28:01.291979Z",
          "shell.execute_reply.started": "2023-10-18T16:28:01.103015Z",
          "shell.execute_reply": "2023-10-18T16:28:01.290876Z"
        },
        "trusted": true,
        "id": "gyI9erioEEg_"
      },
      "execution_count": null,
      "outputs": []
    },
    {
      "cell_type": "code",
      "source": [
        "plt.bar(Sm_bar_cn[:20],Sm_count_bar_cn[:20])\n",
        "plt.title('Top 10 critics',fontweight=\"bold\")\n",
        "plt.xticks(rotation='vertical')\n",
        "plt.figure(figsize=(50,50))\n",
        "plt.show()"
      ],
      "metadata": {
        "execution": {
          "iopub.status.busy": "2023-10-18T16:28:01.293068Z",
          "iopub.execute_input": "2023-10-18T16:28:01.293370Z",
          "iopub.status.idle": "2023-10-18T16:28:01.647222Z",
          "shell.execute_reply.started": "2023-10-18T16:28:01.293345Z",
          "shell.execute_reply": "2023-10-18T16:28:01.646560Z"
        },
        "trusted": true,
        "id": "u9jvnaTAEEg_"
      },
      "execution_count": null,
      "outputs": []
    },
    {
      "cell_type": "code",
      "source": [
        "Sm_bar_genre=mov_rev_comb.genre.value_counts().index\n",
        "Sm_count_bar_genre=mov_rev_comb.genre.value_counts().values"
      ],
      "metadata": {
        "execution": {
          "iopub.status.busy": "2023-10-18T16:28:01.648402Z",
          "iopub.execute_input": "2023-10-18T16:28:01.649070Z",
          "iopub.status.idle": "2023-10-18T16:28:01.873876Z",
          "shell.execute_reply.started": "2023-10-18T16:28:01.649041Z",
          "shell.execute_reply": "2023-10-18T16:28:01.872865Z"
        },
        "trusted": true,
        "id": "am-pZ_PlEEg_"
      },
      "execution_count": null,
      "outputs": []
    },
    {
      "cell_type": "code",
      "source": [
        "plt.bar(Sm_bar_genre[:20],Sm_count_bar_genre[:20])\n",
        "plt.title('Top 10 genre',fontweight=\"bold\")\n",
        "plt.xticks(rotation='vertical')\n",
        "plt.figure(figsize=(50,50))\n",
        "plt.show()"
      ],
      "metadata": {
        "execution": {
          "iopub.status.busy": "2023-10-18T16:28:01.875182Z",
          "iopub.execute_input": "2023-10-18T16:28:01.876083Z",
          "iopub.status.idle": "2023-10-18T16:28:02.256784Z",
          "shell.execute_reply.started": "2023-10-18T16:28:01.876050Z",
          "shell.execute_reply": "2023-10-18T16:28:02.255751Z"
        },
        "trusted": true,
        "id": "87dl93V7EEhA"
      },
      "execution_count": null,
      "outputs": []
    },
    {
      "cell_type": "code",
      "source": [
        "mov_rev_comb.columns"
      ],
      "metadata": {
        "execution": {
          "iopub.status.busy": "2023-10-18T16:28:02.258678Z",
          "iopub.execute_input": "2023-10-18T16:28:02.259008Z",
          "iopub.status.idle": "2023-10-18T16:28:02.265531Z",
          "shell.execute_reply.started": "2023-10-18T16:28:02.258982Z",
          "shell.execute_reply": "2023-10-18T16:28:02.264411Z"
        },
        "trusted": true,
        "id": "QBmojNdGEEhA"
      },
      "execution_count": null,
      "outputs": []
    },
    {
      "cell_type": "code",
      "source": [
        "mov_rev_comb['mapped_scoreSentiment']=mov_rev_comb['scoreSentiment'].replace({'POSITIVE':1,'NEGATIVE':0})\n",
        "mov_rev_comb=mov_rev_comb.drop(columns='scoreSentiment')"
      ],
      "metadata": {
        "execution": {
          "iopub.status.busy": "2023-10-18T16:28:02.266795Z",
          "iopub.execute_input": "2023-10-18T16:28:02.267058Z",
          "iopub.status.idle": "2023-10-18T16:28:03.294932Z",
          "shell.execute_reply.started": "2023-10-18T16:28:02.267035Z",
          "shell.execute_reply": "2023-10-18T16:28:03.293739Z"
        },
        "trusted": true,
        "id": "PV_7Q1qGEEhA"
      },
      "execution_count": null,
      "outputs": []
    },
    {
      "cell_type": "markdown",
      "source": [],
      "metadata": {
        "id": "2occe-WwEEhA"
      }
    },
    {
      "cell_type": "code",
      "source": [
        "corr_matrix=mov_rev_comb.corr(numeric_only=True)\n",
        "mov_rev_comb.info()"
      ],
      "metadata": {
        "execution": {
          "iopub.status.busy": "2023-10-18T16:28:03.296178Z",
          "iopub.execute_input": "2023-10-18T16:28:03.296599Z",
          "iopub.status.idle": "2023-10-18T16:28:04.724016Z",
          "shell.execute_reply.started": "2023-10-18T16:28:03.296570Z",
          "shell.execute_reply": "2023-10-18T16:28:04.722959Z"
        },
        "trusted": true,
        "id": "2LcTSlOeEEhA"
      },
      "execution_count": null,
      "outputs": []
    },
    {
      "cell_type": "code",
      "source": [
        "sns.clustermap(corr_matrix,annot=True,cmap='coolwarm')"
      ],
      "metadata": {
        "execution": {
          "iopub.status.busy": "2023-10-18T16:28:04.725777Z",
          "iopub.execute_input": "2023-10-18T16:28:04.726050Z",
          "iopub.status.idle": "2023-10-18T16:28:05.408645Z",
          "shell.execute_reply.started": "2023-10-18T16:28:04.726025Z",
          "shell.execute_reply": "2023-10-18T16:28:05.407671Z"
        },
        "trusted": true,
        "id": "6iI0LzAhEEhA"
      },
      "execution_count": null,
      "outputs": []
    },
    {
      "cell_type": "code",
      "source": [
        "mov_rev_comb.boxOffice.value_counts()"
      ],
      "metadata": {
        "execution": {
          "iopub.status.busy": "2023-10-18T16:28:05.410193Z",
          "iopub.execute_input": "2023-10-18T16:28:05.410572Z",
          "iopub.status.idle": "2023-10-18T16:28:05.502904Z",
          "shell.execute_reply.started": "2023-10-18T16:28:05.410533Z",
          "shell.execute_reply": "2023-10-18T16:28:05.501922Z"
        },
        "trusted": true,
        "id": "SuNFjkrDEEhA"
      },
      "execution_count": null,
      "outputs": []
    },
    {
      "cell_type": "code",
      "source": [
        "mov_rev_comb['boxOfficeAmount']=mov_rev_comb['boxOffice'].str.strip().replace({'\\$':'','M':'e6','K':'e3'},regex=True).astype(float)"
      ],
      "metadata": {
        "execution": {
          "iopub.status.busy": "2023-10-18T16:28:05.504662Z",
          "iopub.execute_input": "2023-10-18T16:28:05.504970Z",
          "iopub.status.idle": "2023-10-18T16:28:10.930243Z",
          "shell.execute_reply.started": "2023-10-18T16:28:05.504944Z",
          "shell.execute_reply": "2023-10-18T16:28:10.929225Z"
        },
        "trusted": true,
        "id": "nCa6N3N9EEhA"
      },
      "execution_count": null,
      "outputs": []
    },
    {
      "cell_type": "code",
      "source": [
        "mov_rev_comb['boxOfficeAmount']=mov_rev_comb['boxOfficeAmount'].fillna(0)"
      ],
      "metadata": {
        "execution": {
          "iopub.status.busy": "2023-10-18T16:28:10.931407Z",
          "iopub.execute_input": "2023-10-18T16:28:10.931751Z",
          "iopub.status.idle": "2023-10-18T16:28:10.943388Z",
          "shell.execute_reply.started": "2023-10-18T16:28:10.931718Z",
          "shell.execute_reply": "2023-10-18T16:28:10.942390Z"
        },
        "trusted": true,
        "id": "BaA8fN4DEEhA"
      },
      "execution_count": null,
      "outputs": []
    },
    {
      "cell_type": "code",
      "source": [
        "mov_rev_comb.boxOfficeAmount.value_counts()"
      ],
      "metadata": {
        "execution": {
          "iopub.status.busy": "2023-10-18T16:28:10.945033Z",
          "iopub.execute_input": "2023-10-18T16:28:10.945825Z",
          "iopub.status.idle": "2023-10-18T16:28:10.984428Z",
          "shell.execute_reply.started": "2023-10-18T16:28:10.945785Z",
          "shell.execute_reply": "2023-10-18T16:28:10.983763Z"
        },
        "trusted": true,
        "id": "IpkU-cVgEEhB"
      },
      "execution_count": null,
      "outputs": []
    },
    {
      "cell_type": "code",
      "source": [
        "mov_rev_comb.corr(numeric_only=True)"
      ],
      "metadata": {
        "execution": {
          "iopub.status.busy": "2023-10-18T16:28:10.985647Z",
          "iopub.execute_input": "2023-10-18T16:28:10.986060Z",
          "iopub.status.idle": "2023-10-18T16:28:11.286442Z",
          "shell.execute_reply.started": "2023-10-18T16:28:10.986033Z",
          "shell.execute_reply": "2023-10-18T16:28:11.285374Z"
        },
        "trusted": true,
        "id": "5nyzmP2IEEhB"
      },
      "execution_count": null,
      "outputs": []
    },
    {
      "cell_type": "code",
      "source": [
        "columns_to_drop=['mapped_scoreSentiment','audienceScore']\n",
        "mov_rev_comb_dropped_least_corr_columns=mov_rev_comb.drop(columns_to_drop, axis=1)"
      ],
      "metadata": {
        "execution": {
          "iopub.status.busy": "2023-10-18T16:28:11.288196Z",
          "iopub.execute_input": "2023-10-18T16:28:11.288828Z",
          "iopub.status.idle": "2023-10-18T16:28:11.655199Z",
          "shell.execute_reply.started": "2023-10-18T16:28:11.288789Z",
          "shell.execute_reply": "2023-10-18T16:28:11.654277Z"
        },
        "trusted": true,
        "id": "-KPL1AS7EEhB"
      },
      "execution_count": null,
      "outputs": []
    },
    {
      "cell_type": "code",
      "source": [
        "#corr_matrix=mov_rev_comb_dropped_least_corr_columns.corr()"
      ],
      "metadata": {
        "execution": {
          "iopub.status.busy": "2023-10-18T16:28:11.656477Z",
          "iopub.execute_input": "2023-10-18T16:28:11.656895Z",
          "iopub.status.idle": "2023-10-18T16:28:11.661350Z",
          "shell.execute_reply.started": "2023-10-18T16:28:11.656842Z",
          "shell.execute_reply": "2023-10-18T16:28:11.660169Z"
        },
        "trusted": true,
        "id": "Xq0rKQZnEEhB"
      },
      "execution_count": null,
      "outputs": []
    },
    {
      "cell_type": "code",
      "source": [
        "sns.clustermap(corr_matrix,annot=True,cmap='coolwarm')"
      ],
      "metadata": {
        "execution": {
          "iopub.status.busy": "2023-10-18T16:28:11.663121Z",
          "iopub.execute_input": "2023-10-18T16:28:11.663449Z",
          "iopub.status.idle": "2023-10-18T16:28:12.336065Z",
          "shell.execute_reply.started": "2023-10-18T16:28:11.663421Z",
          "shell.execute_reply": "2023-10-18T16:28:12.335323Z"
        },
        "trusted": true,
        "id": "UpKzoWP4EEhO"
      },
      "execution_count": null,
      "outputs": []
    },
    {
      "cell_type": "code",
      "source": [
        "mov_rev_comb.genre.value_counts()"
      ],
      "metadata": {
        "execution": {
          "iopub.status.busy": "2023-10-18T16:28:12.337346Z",
          "iopub.execute_input": "2023-10-18T16:28:12.338031Z",
          "iopub.status.idle": "2023-10-18T16:28:12.454396Z",
          "shell.execute_reply.started": "2023-10-18T16:28:12.338001Z",
          "shell.execute_reply": "2023-10-18T16:28:12.453363Z"
        },
        "trusted": true,
        "id": "wnHBovi9EEhO"
      },
      "execution_count": null,
      "outputs": []
    },
    {
      "cell_type": "code",
      "source": [
        "mov_rev_comb['genre']=mov_rev_comb['genre'].fillna('NA')"
      ],
      "metadata": {
        "execution": {
          "iopub.status.busy": "2023-10-18T16:28:12.455887Z",
          "iopub.execute_input": "2023-10-18T16:28:12.456609Z",
          "iopub.status.idle": "2023-10-18T16:28:12.590590Z",
          "shell.execute_reply.started": "2023-10-18T16:28:12.456573Z",
          "shell.execute_reply": "2023-10-18T16:28:12.589649Z"
        },
        "trusted": true,
        "id": "jVFsRkFhEEhO"
      },
      "execution_count": null,
      "outputs": []
    },
    {
      "cell_type": "markdown",
      "source": [
        "mov_rev_comb['genre_modified']=mov_rev_comb['genre'].str.strip().str.split(',',expand=True)[0]"
      ],
      "metadata": {
        "execution": {
          "iopub.status.busy": "2023-10-17T07:01:50.571949Z",
          "iopub.execute_input": "2023-10-17T07:01:50.572340Z",
          "iopub.status.idle": "2023-10-17T07:01:55.681361Z",
          "shell.execute_reply.started": "2023-10-17T07:01:50.572269Z",
          "shell.execute_reply": "2023-10-17T07:01:55.680476Z"
        },
        "id": "dZq0ocevEEhO"
      }
    },
    {
      "cell_type": "code",
      "source": [
        "mov_rev_comb['genre_modified']=mov_rev_comb['genre'].str.strip().str.split(',',expand=True)[0]"
      ],
      "metadata": {
        "execution": {
          "iopub.status.busy": "2023-10-18T16:29:44.196338Z",
          "iopub.execute_input": "2023-10-18T16:29:44.196734Z",
          "iopub.status.idle": "2023-10-18T16:29:50.520657Z",
          "shell.execute_reply.started": "2023-10-18T16:29:44.196702Z",
          "shell.execute_reply": "2023-10-18T16:29:50.519636Z"
        },
        "trusted": true,
        "id": "OC5FWmzcEEhO"
      },
      "execution_count": null,
      "outputs": []
    },
    {
      "cell_type": "code",
      "source": [
        "var=list(mov_rev_comb.genre_modified.value_counts().index)"
      ],
      "metadata": {
        "execution": {
          "iopub.status.busy": "2023-10-18T16:30:02.605760Z",
          "iopub.execute_input": "2023-10-18T16:30:02.606112Z",
          "iopub.status.idle": "2023-10-18T16:30:02.743478Z",
          "shell.execute_reply.started": "2023-10-18T16:30:02.606085Z",
          "shell.execute_reply": "2023-10-18T16:30:02.742337Z"
        },
        "trusted": true,
        "id": "dmTg4N4UEEhO"
      },
      "execution_count": null,
      "outputs": []
    },
    {
      "cell_type": "code",
      "source": [
        "var.sort()"
      ],
      "metadata": {
        "trusted": true,
        "id": "ncwIz5lrEEhO"
      },
      "execution_count": null,
      "outputs": []
    },
    {
      "cell_type": "code",
      "source": [
        "var"
      ],
      "metadata": {
        "execution": {
          "iopub.status.busy": "2023-10-18T16:30:22.763362Z",
          "iopub.execute_input": "2023-10-18T16:30:22.764393Z",
          "iopub.status.idle": "2023-10-18T16:30:22.771669Z",
          "shell.execute_reply.started": "2023-10-18T16:30:22.764342Z",
          "shell.execute_reply": "2023-10-18T16:30:22.770627Z"
        },
        "trusted": true,
        "id": "5fY3GpXdEEhP"
      },
      "execution_count": null,
      "outputs": []
    },
    {
      "cell_type": "code",
      "source": [
        "genre_map={'Action':1,\n",
        " 'Adventure':2,\n",
        " 'Animation':3,\n",
        " 'Anime':4,\n",
        " 'Biography':5,\n",
        " 'Comedy':6,\n",
        " 'Crime':7,\n",
        " 'Documentary':8,\n",
        " 'Drama':9,\n",
        " 'Faith & spirituality':10,\n",
        " 'Fantasy':11,\n",
        " 'Gay & lesbian':12,\n",
        " 'History':13,\n",
        " 'Holiday':14,\n",
        " 'Horror':15,\n",
        " 'Kids & family':16,\n",
        " 'Lgbtq+':17,\n",
        " 'Music':18,\n",
        " 'Musical':19,\n",
        " 'Mystery & thriller':20,\n",
        " 'NA':21,\n",
        " 'Other':22,\n",
        " 'Romance':23,\n",
        " 'Sci-fi':24,\n",
        " 'Sports':25,\n",
        " 'Stand-up':26,\n",
        " 'Variety':27,\n",
        " 'War':28,\n",
        " 'Western':29}"
      ],
      "metadata": {
        "execution": {
          "iopub.status.busy": "2023-10-18T16:30:50.219339Z",
          "iopub.execute_input": "2023-10-18T16:30:50.220380Z",
          "iopub.status.idle": "2023-10-18T16:30:50.226480Z",
          "shell.execute_reply.started": "2023-10-18T16:30:50.220340Z",
          "shell.execute_reply": "2023-10-18T16:30:50.225108Z"
        },
        "trusted": true,
        "id": "o0A87CfaEEhP"
      },
      "execution_count": null,
      "outputs": []
    },
    {
      "cell_type": "code",
      "source": [
        "mov_rev_comb['mapped_genre']=mov_rev_comb['genre_modified'].map(genre_map)\n",
        "mov_rev_comb['mapped_genre']"
      ],
      "metadata": {
        "execution": {
          "iopub.status.busy": "2023-10-18T16:31:24.340685Z",
          "iopub.execute_input": "2023-10-18T16:31:24.341059Z",
          "iopub.status.idle": "2023-10-18T16:31:24.498103Z",
          "shell.execute_reply.started": "2023-10-18T16:31:24.341030Z",
          "shell.execute_reply": "2023-10-18T16:31:24.497045Z"
        },
        "trusted": true,
        "id": "dK3Z6aVAEEhP"
      },
      "execution_count": null,
      "outputs": []
    },
    {
      "cell_type": "code",
      "source": [
        "Sm_bar_genre=mov_rev_comb.mapped_genre.value_counts().index\n",
        "Sm_count_bar_genre=mov_rev_comb.mapped_genre.value_counts().values\n",
        "Sm_bar_genre\n",
        "plt.bar(Sm_bar_genre[:30],Sm_count_bar_genre[:30])\n",
        "plt.title('Review count genre', fontweight=\"bold\")\n",
        "plt.figure(figsize=(20,20))\n",
        "plt.show()"
      ],
      "metadata": {
        "execution": {
          "iopub.status.busy": "2023-10-18T16:38:15.981761Z",
          "iopub.execute_input": "2023-10-18T16:38:15.982118Z",
          "iopub.status.idle": "2023-10-18T16:38:16.314910Z",
          "shell.execute_reply.started": "2023-10-18T16:38:15.982091Z",
          "shell.execute_reply": "2023-10-18T16:38:16.313713Z"
        },
        "trusted": true,
        "id": "jzZQpUQoEEhP"
      },
      "execution_count": null,
      "outputs": []
    },
    {
      "cell_type": "code",
      "source": [
        "select_for_genre=['mapped_scoreSentiment','mapped_genre']\n",
        "mov_rev_comb_genre_plot=mov_rev_comb[select_for_genre]"
      ],
      "metadata": {
        "execution": {
          "iopub.status.busy": "2023-10-18T16:41:11.401990Z",
          "iopub.execute_input": "2023-10-18T16:41:11.402366Z",
          "iopub.status.idle": "2023-10-18T16:41:11.439352Z",
          "shell.execute_reply.started": "2023-10-18T16:41:11.402335Z",
          "shell.execute_reply": "2023-10-18T16:41:11.438461Z"
        },
        "trusted": true,
        "id": "i82QeXygEEhP"
      },
      "execution_count": null,
      "outputs": []
    },
    {
      "cell_type": "code",
      "source": [
        "sn.scatterplot(mov_rev_comb_genre_plot)"
      ],
      "metadata": {
        "execution": {
          "iopub.status.busy": "2023-10-18T16:42:20.062423Z",
          "iopub.execute_input": "2023-10-18T16:42:20.062781Z",
          "iopub.status.idle": "2023-10-18T16:45:54.794681Z",
          "shell.execute_reply.started": "2023-10-18T16:42:20.062754Z",
          "shell.execute_reply": "2023-10-18T16:45:54.793868Z"
        },
        "trusted": true,
        "id": "1-tMVvJcEEhP"
      },
      "execution_count": null,
      "outputs": []
    },
    {
      "cell_type": "code",
      "source": [
        "mov_rev_comb.columns"
      ],
      "metadata": {
        "execution": {
          "iopub.status.busy": "2023-10-18T17:03:04.343642Z",
          "iopub.execute_input": "2023-10-18T17:03:04.343887Z",
          "iopub.status.idle": "2023-10-18T17:03:04.362076Z",
          "shell.execute_reply.started": "2023-10-18T17:03:04.343866Z",
          "shell.execute_reply": "2023-10-18T17:03:04.361035Z"
        },
        "trusted": true,
        "id": "6791OqxFEEhP"
      },
      "execution_count": null,
      "outputs": []
    },
    {
      "cell_type": "code",
      "source": [
        "selected_columns=['audienceScore','boxOfficeAmount','mapped_scoreSentiment']\n",
        "mov_rev_comb_scatter_plot=mov_rev_comb[selected_columns]"
      ],
      "metadata": {
        "execution": {
          "iopub.status.busy": "2023-10-18T17:05:54.516297Z",
          "iopub.execute_input": "2023-10-18T17:05:54.516688Z",
          "iopub.status.idle": "2023-10-18T17:05:54.535948Z",
          "shell.execute_reply.started": "2023-10-18T17:05:54.516657Z",
          "shell.execute_reply": "2023-10-18T17:05:54.534600Z"
        },
        "trusted": true,
        "id": "7hCjvY8MEEhP"
      },
      "execution_count": null,
      "outputs": []
    },
    {
      "cell_type": "code",
      "source": [
        "mov_rev_comb_scatter_plot['audienceScore']=mov_rev_comb_scatter_plot['audienceScore'].fillna(1)"
      ],
      "metadata": {
        "execution": {
          "iopub.status.busy": "2023-10-18T17:20:02.246479Z",
          "iopub.execute_input": "2023-10-18T17:20:02.247267Z",
          "iopub.status.idle": "2023-10-18T17:20:02.260613Z",
          "shell.execute_reply.started": "2023-10-18T17:20:02.247208Z",
          "shell.execute_reply": "2023-10-18T17:20:02.259683Z"
        },
        "trusted": true,
        "id": "2c45VBWBEEhQ"
      },
      "execution_count": null,
      "outputs": []
    },
    {
      "cell_type": "code",
      "source": [
        "mov_rev_comb_scatter_plot.head()"
      ],
      "metadata": {
        "execution": {
          "iopub.status.busy": "2023-10-18T17:20:33.885826Z",
          "iopub.execute_input": "2023-10-18T17:20:33.886234Z",
          "iopub.status.idle": "2023-10-18T17:20:33.898699Z",
          "shell.execute_reply.started": "2023-10-18T17:20:33.886204Z",
          "shell.execute_reply": "2023-10-18T17:20:33.897601Z"
        },
        "trusted": true,
        "id": "fWdbE2ZkEEhQ"
      },
      "execution_count": null,
      "outputs": []
    },
    {
      "cell_type": "code",
      "source": [
        "mov_rev_comb_scatter_plot.corr()"
      ],
      "metadata": {
        "execution": {
          "iopub.status.busy": "2023-10-18T17:21:02.278697Z",
          "iopub.execute_input": "2023-10-18T17:21:02.279094Z",
          "iopub.status.idle": "2023-10-18T17:21:02.351731Z",
          "shell.execute_reply.started": "2023-10-18T17:21:02.279064Z",
          "shell.execute_reply": "2023-10-18T17:21:02.350672Z"
        },
        "trusted": true,
        "id": "PMOGmfWdEEhQ"
      },
      "execution_count": null,
      "outputs": []
    },
    {
      "cell_type": "code",
      "source": [
        "merged_data = pd.merge(movies, movie_reviews, on='id')\n"
      ],
      "metadata": {
        "id": "diLI0MmoEWI0"
      },
      "execution_count": null,
      "outputs": []
    },
    {
      "cell_type": "code",
      "source": [
        "merged_data.head()"
      ],
      "metadata": {
        "id": "3zUmJCbLF2l4"
      },
      "execution_count": null,
      "outputs": []
    },
    {
      "cell_type": "code",
      "source": [
        "print(f\"There are {merged_data.shape[0] - merged_data.dropna().shape[0]} rows with at least one missing value.\")\n"
      ],
      "metadata": {
        "id": "UJJtSV1QGdL5"
      },
      "execution_count": null,
      "outputs": []
    },
    {
      "cell_type": "code",
      "source": [
        "merged_data['audienceScore_x'].apply(type).value_counts()\n"
      ],
      "metadata": {
        "id": "wWbvBPBBGhvw"
      },
      "execution_count": null,
      "outputs": []
    },
    {
      "cell_type": "code",
      "source": [
        "merged_data.columns"
      ],
      "metadata": {
        "id": "dbfM6DzZHT_v"
      },
      "execution_count": null,
      "outputs": []
    },
    {
      "cell_type": "code",
      "source": [
        "print(f\"There are {merged_data.shape[0] - merged_data.dropna().shape[0]} rows with at least one missing value.\")\n"
      ],
      "metadata": {
        "id": "HrJSz8WcHl0m"
      },
      "execution_count": null,
      "outputs": []
    },
    {
      "cell_type": "code",
      "source": [
        "merged_data['audienceScore_x'].apply(type).value_counts()\n"
      ],
      "metadata": {
        "id": "Q4FIIjr5IJGk"
      },
      "execution_count": null,
      "outputs": []
    },
    {
      "cell_type": "code",
      "source": [
        "merged_data['audienceScore_x'] = pd.to_numeric(merged_data['audienceScore_x'], errors='coerce')\n"
      ],
      "metadata": {
        "id": "Ki7O3i18IRf0"
      },
      "execution_count": null,
      "outputs": []
    },
    {
      "cell_type": "code",
      "source": [
        "merged_data['audienceScore_x'].fillna((merged_data['audienceScore_x'].mean()), inplace=True)\n"
      ],
      "metadata": {
        "id": "pJrwL8J3IarN"
      },
      "execution_count": null,
      "outputs": []
    },
    {
      "cell_type": "code",
      "source": [
        "merged_data['director_y'].fillna((merged_data['director_y'].mode()[0]), inplace=True)\n"
      ],
      "metadata": {
        "id": "HIC-H5daIg_z"
      },
      "execution_count": null,
      "outputs": []
    },
    {
      "cell_type": "code",
      "source": [
        "threshold = 0.8  #removing columns with more than 80% missing values\n",
        "merged_data = merged_data[merged_data.columns[merged_data.isnull().mean() < threshold]]"
      ],
      "metadata": {
        "id": "fFAHUYMvKaTk"
      },
      "execution_count": null,
      "outputs": []
    },
    {
      "cell_type": "code",
      "source": [
        "merged_data.columns # display all columns after removing columns with more than 80% missing values\n"
      ],
      "metadata": {
        "id": "GdZfRXDDKeIe"
      },
      "execution_count": null,
      "outputs": []
    },
    {
      "cell_type": "code",
      "source": [
        "print(f\"There are {merged_data.shape[0] - merged_data.dropna().shape[0]} rows with at least one missing value.\")\n"
      ],
      "metadata": {
        "id": "bH14U4YvKhe2"
      },
      "execution_count": null,
      "outputs": []
    },
    {
      "cell_type": "code",
      "source": [
        "merged_data['runtimeMinutes'].fillna((merged_data['runtimeMinutes'].mean()), inplace=True)\n",
        "\n",
        "# For originalLanguage columns replace by mode\n",
        "merged_data['originalLanguage_y'].fillna((merged_data['originalLanguage_y'].mode()[0]), inplace=True)"
      ],
      "metadata": {
        "id": "3IjDyQM4KjUR"
      },
      "execution_count": null,
      "outputs": []
    },
    {
      "cell_type": "code",
      "source": [
        "merged_data['audienceScore_x'].fillna((merged_data['audienceScore_x'].mean()), inplace=True)\n"
      ],
      "metadata": {
        "id": "PQm0uLD9K0wi"
      },
      "execution_count": null,
      "outputs": []
    },
    {
      "cell_type": "code",
      "source": [
        "clean_data = merged_data.dropna() # drop rows having missing values\n"
      ],
      "metadata": {
        "id": "286TBROzLBpM"
      },
      "execution_count": null,
      "outputs": []
    },
    {
      "cell_type": "code",
      "source": [
        "print(f\"There are {clean_data.shape[0] - clean_data.dropna().shape[0]} rows with at least one missing value.\")\n"
      ],
      "metadata": {
        "id": "7Qw6gArHLEkp"
      },
      "execution_count": null,
      "outputs": []
    },
    {
      "cell_type": "code",
      "source": [
        "clean_data.shape # Get an overview of the dataset's shape (number of rows and columns) of clean_data\n"
      ],
      "metadata": {
        "id": "zqcPB_7-LHUK"
      },
      "execution_count": null,
      "outputs": []
    },
    {
      "cell_type": "code",
      "source": [
        "plt.figure(figsize=(12,10))\n",
        "sns.heatmap(clean_data[['audienceScore_x', 'tomatoMeter_y', 'runtimeMinutes']].corr(), annot=True, cmap='coolwarm')\n",
        "plt.show()\n",
        "#plt.savefig('heatmap.png')"
      ],
      "metadata": {
        "id": "9O5ogLzTLJV0"
      },
      "execution_count": null,
      "outputs": []
    },
    {
      "cell_type": "code",
      "source": [
        "#Categorical vs Numerical Analysis\n",
        "# Categorical vs Numerical Analysis\n",
        "clean_data.groupby('originalLanguage_x')['audienceScore_x'].mean().plot(kind='bar')\n",
        "plt.xlabel('Original Language')\n",
        "plt.ylabel('Average Audience Score')\n",
        "plt.tight_layout()\n",
        "plt.show()\n",
        "#plt.savefig('language_vs_audience_score.png')"
      ],
      "metadata": {
        "id": "GLAYpMGiMVmW"
      },
      "execution_count": null,
      "outputs": []
    },
    {
      "cell_type": "code",
      "source": [
        "#Categorical vs Categorical Analysis\n",
        "# Identify the top 5 languages\n",
        "top_languages = clean_data['originalLanguage_x'].value_counts().nlargest(5).index\n",
        "\n",
        "# Filter the dataframe for only these top 5 languages\n",
        "filtered_data = clean_data[clean_data['originalLanguage_x'].isin(top_languages)]\n",
        "\n",
        "# Now create a cross-tabulation of 'rating' and 'originalLanguage' for these top 5 languages\n",
        "crosstab_table = pd.crosstab(filtered_data['rating_x'], filtered_data['originalLanguage_x'])\n",
        "print(crosstab_table)\n",
        "# Save the crosstab_table to a .csv file\n",
        "#crosstab_table.to_csv('crosstab_table_top5languages.csv')"
      ],
      "metadata": {
        "id": "wr-o7BCgMhQh"
      },
      "execution_count": null,
      "outputs": []
    },
    {
      "cell_type": "code",
      "source": [
        "# drop_columns = ['ratingContents', 'distributor', 'soundMix', 'reviewId', 'publicatioName']\n",
        "# clean_data = clean_data.drop(columns=drop_columns)\n",
        "\n",
        "# Outliers handling for 'runtimeMinutes' using IQR method\n",
        "Q1 = clean_data['runtimeMinutes'].quantile(0.25)\n",
        "Q3 = clean_data['runtimeMinutes'].quantile(0.75)\n",
        "IQR = Q3 - Q1\n",
        "clean_data = clean_data[~((clean_data['runtimeMinutes'] < (Q1 - 1.5 * IQR)) | (clean_data['runtimeMinutes'] > (Q3 + 1.5 * IQR)))]\n",
        "\n",
        "clean_data.shape # check the shape of the dataframe after data cleaning"
      ],
      "metadata": {
        "id": "SX6d6awJPlHo"
      },
      "execution_count": null,
      "outputs": []
    },
    {
      "cell_type": "code",
      "source": [
        "clean_data.shape # check the shape of the dataframe after data cleaning\n"
      ],
      "metadata": {
        "id": "WquXtJmgRkIF"
      },
      "execution_count": null,
      "outputs": []
    },
    {
      "cell_type": "code",
      "source": [
        "clean_data.info() # view the data type\n"
      ],
      "metadata": {
        "id": "YPnaaaI5Rov0"
      },
      "execution_count": null,
      "outputs": []
    },
    {
      "cell_type": "code",
      "source": [
        "sample_data = clean_data.sample(frac=0.1, random_state=42)\n",
        "\n",
        "# Reset index of the DataFrame\n",
        "sample_data.reset_index(drop=True, inplace=True)\n",
        "sample_data.shape # check the shape of the dataframe after sampling"
      ],
      "metadata": {
        "id": "aRf7BSXRRrY2"
      },
      "execution_count": null,
      "outputs": []
    },
    {
      "cell_type": "code",
      "source": [
        "\n",
        "# Combine text columns into one combined_text column\n",
        "sample_data['combined_text'] = sample_data['genre_x'] + ' ' + sample_data['director_x'] + ' ' + sample_data['writer_x'] + ' ' + sample_data['originalLanguage_x']\n",
        "\n",
        "# Create a TfidfVectorizer object\n",
        "tfidf_vectorizer = TfidfVectorizer(stop_words='english')\n",
        "\n",
        "# Fit and transform the combined_text column\n",
        "tfidf_matrix = tfidf_vectorizer.fit_transform(sample_data['combined_text'])\n",
        "\n",
        "# Convert releaseDateTheaters to timestamp and get the year\n",
        "sample_data['releaseDateTheaters_x'] = pd.to_datetime(sample_data['releaseDateTheaters_x']).dt.year\n",
        "\n",
        "# Create a MinMaxScaler object\n",
        "scaler = MinMaxScaler()\n",
        "\n",
        "# Scale the numerical columns\n",
        "scaled_runtime = scaler.fit_transform(np.array(sample_data['runtimeMinutes']).reshape(-1, 1))\n",
        "scaled_release_date = scaler.fit_transform(np.array(sample_data['releaseDateTheaters_x']).reshape(-1, 1))\n",
        "\n",
        "# Concatenate the TF-IDF vectors with the scaled numerical vectors\n",
        "feature_matrix = np.concatenate([tfidf_matrix.toarray(), scaled_runtime, scaled_release_date], axis=1)\n",
        "\n",
        "# Create a NearestNeighbors model\n",
        "# model_knn = NearestNeighbors(metric='cosine', algorithm='brute', n_neighbors=10, n_jobs=-1)\n",
        "model_knn= NearestNeighbors(metric='euclidean', algorithm='brute', n_neighbors=76, n_jobs=-1)\n",
        "# Fit the model to the data\n",
        "model_knn.fit(feature_matrix)\n",
        "\n",
        "def recommend_movies(movie_title):\n",
        "    movie_index = sample_data[sample_data['title'] == movie_title].index[0]\n",
        "    movie_features = feature_matrix[movie_index]\n",
        "    movie_features_2D = movie_features.reshape(1, -1)  # reshape the array to 2D\n",
        "    distances, indices = model_knn.kneighbors(movie_features_2D, n_neighbors=77)\n",
        "    indices_list = indices.squeeze().tolist()\n",
        "    recommended_movies = sample_data.iloc[indices_list].title.unique()\n",
        "    # Exclude the input movie title from the recommendations\n",
        "    recommended_movies = [movie for movie in recommended_movies if movie != movie_title]\n",
        "    return recommended_movies\n",
        "\n",
        "# Display the first 10 movie titles in the DataFrame\n",
        "print(sample_data['title'].head(10))"
      ],
      "metadata": {
        "id": "5DwN7d6URvVq"
      },
      "execution_count": null,
      "outputs": []
    },
    {
      "cell_type": "code",
      "source": [
        "merged_data.columns"
      ],
      "metadata": {
        "id": "VGvFtrpYOvT8"
      },
      "execution_count": null,
      "outputs": []
    },
    {
      "cell_type": "code",
      "source": [
        "recommendations = recommend_movies(\"Dinner for Schmucks\")\n",
        "print(recommendations)"
      ],
      "metadata": {
        "id": "YEnWHAQyWiFd"
      },
      "execution_count": null,
      "outputs": []
    },
    {
      "cell_type": "code",
      "source": [
        "n_clusters = 4\n",
        "kmeans = KMeans(n_clusters=n_clusters, random_state=42)\n",
        "sample_data['cluster'] = kmeans.fit_predict(feature_matrix)\n",
        "\n",
        "def recommend_movies_kmeans(movie_title):\n",
        "    # Find the cluster for the input movie\n",
        "    cluster = sample_data[sample_data['title'] == movie_title]['cluster'].iloc[0]\n",
        "\n",
        "    # Recommend other movies from the same cluster\n",
        "    recommended_movies = sample_data[sample_data['cluster'] == cluster]['title'].tolist()\n",
        "\n",
        "    # Exclude the input movie title from the recommendations\n",
        "    recommended_movies = [movie for movie in recommended_movies if movie != movie_title]\n",
        "    return recommended_movies"
      ],
      "metadata": {
        "id": "-to2v2VHWs0H"
      },
      "execution_count": null,
      "outputs": []
    },
    {
      "cell_type": "code",
      "source": [
        "recommendations_kmeans = recommend_movies_kmeans(\"Dinner for Schmucks\")\n",
        "print(recommendations_kmeans)"
      ],
      "metadata": {
        "id": "ZWH_s4MnbtLH"
      },
      "execution_count": null,
      "outputs": []
    },
    {
      "cell_type": "code",
      "source": [
        "# Define the number of recommendations to fetch from each model\n",
        "N = 10\n",
        "\n",
        "def get_top_n_knn_recommendations(movie_title, n=N):\n",
        "    movie_index = sample_data[sample_data['title'] == movie_title].index[0]\n",
        "    movie_features = feature_matrix[movie_index]\n",
        "    movie_features_2D = movie_features.reshape(1, -1)\n",
        "    distances, indices = model_knn.kneighbors(movie_features_2D, n_neighbors=n+1)  # +1 to account for the movie itself\n",
        "    indices_list = indices.squeeze().tolist()\n",
        "    recommended_movies = sample_data.iloc[indices_list].title.unique()\n",
        "    # Exclude the input movie title from the recommendations\n",
        "    recommended_movies = [movie for movie in recommended_movies if movie != movie_title]\n",
        "    return recommended_movies\n",
        "\n",
        "def get_top_n_kmeans_recommendations(movie_title, n=N):\n",
        "    cluster = sample_data[sample_data['title'] == movie_title]['cluster'].iloc[0]\n",
        "    movies_in_cluster = sample_data[sample_data['cluster'] == cluster]['title'].tolist()\n",
        "\n",
        "    # Getting closest movies based on feature similarity within the cluster\n",
        "    movie_index = sample_data[sample_data['title'] == movie_title].index[0]\n",
        "    distances_to_movies_in_cluster = [np.linalg.norm(feature_matrix[movie_index] - feature_matrix[i]) for i in sample_data[sample_data['cluster'] == cluster].index]\n",
        "\n",
        "    sorted_idx = np.argsort(distances_to_movies_in_cluster)\n",
        "    recommended_movies = [movies_in_cluster[i] for i in sorted_idx[:n+1]]  # +1 to account for the movie itself\n",
        "    # Exclude the input movie title from the recommendations\n",
        "    recommended_movies = [movie for movie in recommended_movies if movie != movie_title]\n",
        "    return recommended_movies\n",
        "\n",
        "# Function to compare the two recommendation lists\n",
        "def compare_recommendations(movie_title, n=N):\n",
        "    knn_recs = set(get_top_n_knn_recommendations(movie_title, n))\n",
        "    kmeans_recs = set(get_top_n_kmeans_recommendations(movie_title, n))\n",
        "    common_movies = knn_recs.intersection(kmeans_recs)\n",
        "    return len(common_movies) / n\n",
        "\n",
        "# Initialize a list to store all agreement ratios\n",
        "agreement_ratios = []\n",
        "\n",
        "# Loop through all the movie titles in sample_data\n",
        "for movie_title in sample_data['title'].tolist():\n",
        "    agreement_ratio = compare_recommendations(movie_title)\n",
        "    agreement_ratios.append(agreement_ratio)\n",
        "\n",
        "# Calculate the average agreement ratio\n",
        "average_agreement = np.mean(agreement_ratios)\n",
        "\n",
        "print(f\"The average agreement ratio between KNN and KMeans models for the sample data is {average_agreement*100:.2f}%.\")\n",
        "sample_data=sample_data.dropna()"
      ],
      "metadata": {
        "id": "h0c4Hve1IFX4"
      },
      "execution_count": null,
      "outputs": []
    },
    {
      "cell_type": "code",
      "source": [
        "def convert_boxoffice(value):\n",
        "    try:\n",
        "        # Check if the value ends with 'M'\n",
        "        if value[-1] == 'M':\n",
        "            return float(value.replace('$', '').replace('M', '')) * 1e6\n",
        "        # Check if the value ends with 'k'\n",
        "        elif value[-1] == 'k':\n",
        "            return float(value.replace('$', '').replace('k', '')) * 1e3\n",
        "        # If it's just a number\n",
        "        else:\n",
        "            return float(value.replace('$', ''))\n",
        "    except:\n",
        "        return np.nan\n",
        "\n",
        "# Apply the conversion function to the 'boxOffice' column\n",
        "sample_data['boxOffice_y'] = sample_data['boxOffice_y'].apply(convert_boxoffice)\n",
        "\n",
        "# Replace NaN values with the mean of the 'boxOffice' column\n",
        "sample_data['boxOffice_y'].fillna(sample_data['boxOffice_y'].mean(), inplace=True)\n",
        "sample_data['audienceScore_y'].fillna(sample_data['audienceScore_y'].mean(), inplace=True)\n",
        "\n",
        "\n",
        "# 1. TF-IDF Vectorization for 'reviewText'\n",
        "# tfidf_vectorizer_review = TfidfVectorizer(stop_words='english', max_features=5000)\n",
        "# tfidf_matrix_review = tfidf_vectorizer_review.fit_transform(sample_data['reviewText'].fillna(''))\n",
        "\n",
        "# 2. Normalization of numerical features\n",
        "scaler_boxOffice = MinMaxScaler()\n",
        "scaled_boxOffice = scaler_boxOffice.fit_transform(np.array(sample_data['boxOffice_y']).reshape(-1, 1))\n",
        "\n",
        "# scaler_originalScore = MinMaxScaler()\n",
        "# scaled_originalScore = scaler_originalScore.fit_transform(np.array(sample_data['originalScore']).reshape(-1, 1))\n",
        "\n",
        "scaler_audienceScore = MinMaxScaler()\n",
        "scaled_audienceScore = scaler_audienceScore.fit_transform(np.array(sample_data['audienceScore_y']).reshape(-1, 1))\n",
        "\n",
        "# Combine all the feature vectors into a single matrix\n",
        "feature_matrix_knowledge = np.concatenate([scaled_boxOffice,scaled_audienceScore], axis=1)\n",
        "\n"
      ],
      "metadata": {
        "id": "wRV_KCp8IzQg"
      },
      "execution_count": null,
      "outputs": []
    },
    {
      "cell_type": "code",
      "source": [
        "sample_data.columns"
      ],
      "metadata": {
        "id": "sYsg4JUIeAGF"
      },
      "execution_count": null,
      "outputs": []
    },
    {
      "cell_type": "code",
      "source": [
        "sample_data.columns"
      ],
      "metadata": {
        "id": "0I2iKuYUHmhX"
      },
      "execution_count": null,
      "outputs": []
    },
    {
      "cell_type": "code",
      "source": [
        "X_train, X_test = train_test_split(feature_matrix_knowledge, test_size=0.2, random_state=42)\n"
      ],
      "metadata": {
        "id": "BmbtS9VNKPE7"
      },
      "execution_count": null,
      "outputs": []
    },
    {
      "cell_type": "code",
      "source": [
        "from sklearn.impute import KNNImputer\n",
        "\n",
        "imputer = KNNImputer(n_neighbors=2)\n",
        "X_train_imputed = imputer.fit_transform(X_train)\n",
        "\n",
        "model_knowledge = NearestNeighbors(metric='cosine', algorithm='brute', n_neighbors=10, n_jobs=-1)\n",
        "\n",
        "model_knowledge.fit(X_train_imputed)"
      ],
      "metadata": {
        "id": "nOOTOJloKTgW"
      },
      "execution_count": null,
      "outputs": []
    },
    {
      "cell_type": "code",
      "source": [
        "def get_recommendations_knowledge(movie_title, n=10):\n",
        "    # Find the index of the movie\n",
        "    idx = sample_data[sample_data['title'] == movie_title].index[0]\n",
        "\n",
        "    # Get the distances and indices of the n nearest neighbors\n",
        "    distances, indices = model_knowledge.kneighbors([feature_matrix_knowledge[idx]])\n",
        "\n",
        "    # Return the titles of the nearest neighbors\n",
        "    return sample_data['title'].iloc[indices[0]].tolist()"
      ],
      "metadata": {
        "id": "PwdAjHDgdS32"
      },
      "execution_count": null,
      "outputs": []
    },
    {
      "cell_type": "code",
      "source": [
        "recommendations = get_recommendations_knowledge('Bombshell')\n",
        "print(recommendations)"
      ],
      "metadata": {
        "id": "TcKrHvC1dU0V"
      },
      "execution_count": null,
      "outputs": []
    }
  ]
}