{
  "nbformat": 4,
  "nbformat_minor": 0,
  "metadata": {
    "colab": {
      "provenance": []
    },
    "kernelspec": {
      "name": "python3",
      "display_name": "Python 3"
    },
    "language_info": {
      "name": "python"
    }
  },
  "cells": [
    {
      "cell_type": "markdown",
      "source": [
        "### `Task` Train a Lasso And Ridge Regression model on Boston House Price Datset. And also show how it reduces overfitting in compare to normal Linear regression model.\n",
        "\n",
        "Data set Link - https://www.kaggle.com/datasets/altavish/boston-housing-dataset\n",
        "\n",
        "DataSet description:\n",
        "```\n",
        "ZN: proportion of residential land zoned for lots over 25,000 sq.ft.\n",
        "INDUS: proportion of non-retail business acres per town\n",
        "CHAS: Charles River dummy variable (= 1 if tract bounds river; 0 otherwise)\n",
        "NOX: nitric oxides concentration (parts per 10 million)\n",
        "RM: average number of rooms per dwelling\n",
        "AGE: proportion of owner-occupied units built prior to 1940\n",
        "DIS: weighted distances to ﬁve Boston employment centers\n",
        "RAD: index of accessibility to radial highways\n",
        "TAX: full-value property-tax rate per $10,000\n",
        "PTRATIO: pupil-teacher ratio by town 12. B: 1000(Bk−0.63)2 where Bk is the proportion of blacks by town 13. LSTAT: % lower status of the population\n",
        "MEDV: Median value of owner-occupied homes in $1000s (Target)\n",
        "```"
      ],
      "metadata": {
        "id": "KEySwYv_MTvm"
      }
    },
    {
      "cell_type": "code",
      "source": [
        "# Your Code goes here"
      ],
      "metadata": {
        "id": "xJfq7faoUVmI"
      },
      "execution_count": null,
      "outputs": []
    },
    {
      "cell_type": "markdown",
      "source": [
        "### `Task` perform Lasso and Ridge in Wine Quality dataset and show how it's different from Linear Regression.\n",
        "\n",
        "Data link : https://docs.google.com/spreadsheets/d/e/2PACX-1vQDVwxneOKOaJL13QMhkAhYrgWlH1tICY7RacUnj_lL8m9uUWaaUf3p7bScNyh_D2Rvt7nc1q11adSy/pub?gid=647503637&single=true&output=csv\n",
        "\n"
      ],
      "metadata": {
        "id": "QLJMeQ8VTn2L"
      }
    },
    {
      "cell_type": "code",
      "source": [
        "# Loading Wine dataset\n",
        "import pandas as pd\n",
        "wine_data_path = \"https://docs.google.com/spreadsheets/d/e/2PACX-1vQDVwxneOKOaJL13QMhkAhYrgWlH1tICY7RacUnj_lL8m9uUWaaUf3p7bScNyh_D2Rvt7nc1q11adSy/pub?gid=647503637&single=true&output=csv\"\n",
        "data = pd.read_csv(wine_data_path)"
      ],
      "metadata": {
        "id": "vj7YD9tfUCts"
      },
      "execution_count": null,
      "outputs": []
    },
    {
      "cell_type": "code",
      "source": [
        "# Your Code goes here"
      ],
      "metadata": {
        "id": "u_oMiDe_UNuw"
      },
      "execution_count": null,
      "outputs": []
    }
  ]
}